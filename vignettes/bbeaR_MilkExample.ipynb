{
 "cells": [
  {
   "cell_type": "raw",
   "metadata": {},
   "source": [
    "---\n",
    "title: \"bbeaR - Milk Allergy Example\"\n",
    "author: \"Maria Suprun, Randall J. Ellis, Mayte Suárez-Fariñas\"\n",
    "date: \"5/27/2020\"\n",
    "output:\n",
    "  pdf_document:\n",
    "    toc: yes\n",
    "  word_document:\n",
    "    toc: no\n",
    "  html_document: \n",
    "    highlight: pygments\n",
    "    number_sections: yes\n",
    "    theme: united\n",
    "    toc: yes\n",
    "---"
   ]
  },
  {
   "cell_type": "markdown",
   "metadata": {},
   "source": [
    "<!--\n",
    "%\\VignetteEngine{knitr::rmarkdown}\n",
    "%\\VignetteIndexEntry{Using bbeaR}\n",
    "-->"
   ]
  },
  {
   "cell_type": "code",
   "execution_count": null,
   "metadata": {
    "name": "setup",
    "tags": [
     "remove_cell"
    ]
   },
   "outputs": [],
   "source": [
    "knitr::opts_chunk$set(echo = TRUE, message = FALSE)"
   ]
  },
  {
   "cell_type": "markdown",
   "metadata": {},
   "source": [
    "# About\n",
    "\n",
    "The **Bead-Based Epitope Assay** *(BBEA)* can be used to quantify the amount of epitope- or peptide-specific antibodies (e.g., IgE) in plasma or serum samples. A detailed assay description is outlined in \n",
    "<a href=\"https://www.nature.com/articles/s41598-019-54868-7\" target=\"_blank\">this publication</a> \n",
    "\n",
    "In this tutorial, we will analyze a dataset of the immuniglobulin (Ig)E profiles in children allergic to milk that were treated with milk oral immunotherapy (OIT). The levels of 66 epitope-specific IgE were measured using *BBEA* in plasma.     \n",
    "\n",
    "We will start by installing *bbeaR* and reading in the *BBEA's* raw data (alternatively, one can load an R dataset that comes with this package). We will look at several quality control (QC) measures and normalize the data. Then we will demonstrate an approach to identify epitope-specific (es)IgE that is different between children treated with Placebo or Omalizumab as adjuvants for milk Oral Immunotherapy (mOIT), using <a href=\"https://bioconductor.org/packages/release/bioc/html/limma.html\" target=\"_blank\">limma</a> modeling framework.\n",
    "\n",
    "# Installation\n",
    "\n",
    "*bbeaR* is a Bioconductor package and is installed using a standard command:"
   ]
  },
  {
   "cell_type": "code",
   "execution_count": null,
   "metadata": {
    "eval": false
   },
   "outputs": [],
   "source": [
    "if (!requireNamespace(\"BiocManager\", quietly=TRUE))\n",
    "    install.packages(\"BiocManager\")\n",
    "BiocManager::install(\"bbeaR\")"
   ]
  },
  {
   "cell_type": "markdown",
   "metadata": {},
   "source": [
    "Loading additional packages that will be used in the analyses."
   ]
  },
  {
   "cell_type": "code",
   "execution_count": null,
   "metadata": {
    "name": "Packages"
   },
   "outputs": [],
   "source": [
    "library(bbeaR)\n",
    "library(plyr)\n",
    "library(stringr)\n",
    "library(ggplot2)\n",
    "library(gridExtra)\n",
    "library(pheatmap)\n",
    "library(RColorBrewer)\n",
    "library(limma)"
   ]
  },
  {
   "cell_type": "markdown",
   "metadata": {},
   "source": [
    "# Raw Data Import\n",
    " 47 patients were assayed before and after treatment, for a total of 94 samples, each ran in triplicate on four 96-well plates. The runs additionally included three negative control well, without any sample (aka “Buffer”, for background quantification).\n",
    "\n",
    "The original *.csv* files from the Luminex-200 assay, generated with the xPONENT® software, can be downloaded here [link].    \n",
    "\n",
    "We need to create a plate layout using the *create.plate.db()* function. This layout will be used in the import and some of the plotting functions. The only input to this function is the direction of the plate read (horizorntal or vertical). "
   ]
  },
  {
   "cell_type": "code",
   "execution_count": null,
   "metadata": {
    "name": "Plate layout"
   },
   "outputs": [],
   "source": [
    "l <- create.plate.db(direction = \"horizontal\")\n",
    "plate.design.db <- l$plate.design.db\n",
    "plate.design <- l$plate.design\n",
    "plate.design"
   ]
  },
  {
   "cell_type": "markdown",
   "metadata": {},
   "source": [
    "Then read all four *.csv* files.    \n",
    "Note: a separate tutorial (Egg Allergy Example) has an example of importing and processing a single plate.  "
   ]
  },
  {
   "cell_type": "code",
   "execution_count": null,
   "metadata": {
    "name": "Raw files"
   },
   "outputs": [],
   "source": [
    "file_names <- dir(path = \"../inst/extdata/\", pattern=\".csv\", \n",
    "                  all.files = FALSE, full.names = TRUE)\n",
    "# file_names <- dir(path = \"../Data/BBEA_mOIT_IgE\", pattern=\".csv\", \n",
    "#                   all.files = FALSE, full.names = TRUE)\n",
    "bbea <- bbea.read.csv.all(file_names[grepl(\"MOIT_IgE\",file_names)]) "
   ]
  },
  {
   "cell_type": "markdown",
   "metadata": {},
   "source": [
    "The *bbea* list object contains several elements, extracted from the assay's output."
   ]
  },
  {
   "cell_type": "code",
   "execution_count": null,
   "metadata": {},
   "outputs": [],
   "source": [
    "names(bbea)"
   ]
  },
  {
   "cell_type": "markdown",
   "metadata": {},
   "source": [
    "The **Median**, **NetMFI**, and **Count** are matrices with rows as Analytes (epitopes) and columns as Samples.    \n",
    "   \n",
    "The **Median** are the Median Flourescence Intensities (MFIs) and the **NetMFI** are the Medians normalized to background. In our example, **Median** and **NetMFI** have exactly same values, since normalization was not selected during the assay run. <a href=\"https://www.luminexcorp.com/blog/its-all-about-the-stats/\" target=\"_blank\">This post</a> has more details about the Luminex outputs."
   ]
  },
  {
   "cell_type": "code",
   "execution_count": null,
   "metadata": {},
   "outputs": [],
   "source": [
    "bbea$Median[1:5, 1:2]"
   ]
  },
  {
   "cell_type": "markdown",
   "metadata": {},
   "source": [
    "The **Count** are the numbers of beads counted per analyte, and is important quality control measure. "
   ]
  },
  {
   "cell_type": "code",
   "execution_count": null,
   "metadata": {},
   "outputs": [],
   "source": [
    "bbea$Count[1:5, 1:2]"
   ]
  },
  {
   "cell_type": "markdown",
   "metadata": {
    "lines_to_next_cell": 0
   },
   "source": [
    "The **AssayInfo** saves parameters of the assay."
   ]
  },
  {
   "cell_type": "code",
   "execution_count": null,
   "metadata": {},
   "outputs": [],
   "source": [
    "bbea$AssayInfo[1:15, 1:2]"
   ]
  },
  {
   "cell_type": "markdown",
   "metadata": {},
   "source": [
    "Finally, *bbea.read.csv()* creates a **phenotype (p)Data** that has some basic information about the samples and the assay run."
   ]
  },
  {
   "cell_type": "code",
   "execution_count": null,
   "metadata": {},
   "outputs": [],
   "source": [
    "colnames(bbea$pData)\n",
    "bbea$pData[1:2, 1:2]"
   ]
  },
  {
   "cell_type": "markdown",
   "metadata": {},
   "source": [
    "We can now add extrenal information about the samples and analytes.   \n",
    "Load already imported data that inlcudes **p**henotype (clinical) **d**ata *PD* and an annotation file *Annot*. Note: this will also load a *bbea* list object (generated in the previous steps).  "
   ]
  },
  {
   "cell_type": "code",
   "execution_count": null,
   "metadata": {
    "name": "Load pheno data"
   },
   "outputs": [],
   "source": [
    "data(Milk)"
   ]
  },
  {
   "cell_type": "markdown",
   "metadata": {},
   "source": [
    "The annotation **Annot** dataset contains the mapping of Luminex beads (Analytes) to the peptides/eptiopes."
   ]
  },
  {
   "cell_type": "code",
   "execution_count": null,
   "metadata": {},
   "outputs": [],
   "source": [
    "dim(Annot)\n",
    "head(Annot)"
   ]
  },
  {
   "cell_type": "markdown",
   "metadata": {},
   "source": [
    "Changing the *bbea* object to have peptide names instead of analyte numbers."
   ]
  },
  {
   "cell_type": "code",
   "execution_count": null,
   "metadata": {
    "name": "Adding Annotation"
   },
   "outputs": [],
   "source": [
    "bbea <- bbea.changeAnnotation(bbea.obj = bbea, \n",
    "                              annotation = Annot,\n",
    "                              newNameCol = \"Peptide\", \n",
    "                              AnalyteCol = \"Analyte\")\n",
    "bbea$Median[1:5, 1:2]"
   ]
  },
  {
   "cell_type": "markdown",
   "metadata": {},
   "source": [
    "The **PD** dataset has clinical information about our samples."
   ]
  },
  {
   "cell_type": "code",
   "execution_count": null,
   "metadata": {},
   "outputs": [],
   "source": [
    "dim(PD)\n",
    "head(PD)"
   ]
  },
  {
   "cell_type": "markdown",
   "metadata": {},
   "source": [
    "We will clean up the pData and then merge it with PD. This step is not necessary, but will be useful when we do statistical modelling.   "
   ]
  },
  {
   "cell_type": "code",
   "execution_count": null,
   "metadata": {
    "name": "Adding information about samples"
   },
   "outputs": [],
   "source": [
    "bbea$pData$Rows <- rownames(bbea$pData)\n",
    "bbea$pData <- mutate(merge(bbea$pData,PD,by=c(\"Location\",\"Plate\"),all.x=T),\n",
    "                     Sample=mapvalues(SUBJECT.ID,NA,\"Buffer\"))\n",
    "rownames(bbea$pData) <- bbea$pData$Rows\n"
   ]
  },
  {
   "cell_type": "markdown",
   "metadata": {},
   "source": [
    "# Quality Control of the Raw Data\n",
    "\n",
    "We want to make sure that there are no missing samples or analytes. This would be reflcected by the very low counts (<25).   \n",
    "The heatmap shows that all samples and analytes are were included."
   ]
  },
  {
   "cell_type": "code",
   "execution_count": null,
   "metadata": {
    "fig.height": 6
   },
   "outputs": [],
   "source": [
    "bbea.QC.heatmap.counts(bbea,\n",
    "                       getlog2=FALSE,\n",
    "                       filename=\"QC.CountsHeatmap.pdf\",\n",
    "                       plateVar=\"Plate\", ann=NULL)"
   ]
  },
  {
   "cell_type": "markdown",
   "metadata": {},
   "source": [
    "All counts seem to be high and we don't see any specific sample or epitope to be missing.  \n",
    "However, when having multiple plates, it might be more useful to have a counts heatmap for each plate separately. This can be achived by running *bbea.QC.heatmap.counts.byPlate()* function."
   ]
  },
  {
   "cell_type": "code",
   "execution_count": null,
   "metadata": {
    "eval": false
   },
   "outputs": [],
   "source": [
    "bbea.QC.heatmap.counts.byPlate(bbea, getlog2=FALSE,\n",
    "                               filename=\"QC.CountsHeatmap\",\n",
    "                               plateVar=\"Plate\", ann=NULL, he=7, wi=9)"
   ]
  },
  {
   "cell_type": "markdown",
   "metadata": {},
   "source": [
    "Now we look at the overall distribution of counts: the minimum count is ~75, which is pretty good."
   ]
  },
  {
   "cell_type": "code",
   "execution_count": null,
   "metadata": {
    "fig.height": 4
   },
   "outputs": [],
   "source": [
    "p<-bbea.QC.Samples(bbea,\n",
    "               filename = \"QC.\",\n",
    "               plateVar = 'Plate',\n",
    "               gt = 25)\n",
    "grid.arrange(p$pmin, p$pavg, nrow=1)"
   ]
  },
  {
   "cell_type": "markdown",
   "metadata": {},
   "source": [
    "Our counts looks good, so we don't need to exclude any samples. However, if this were not the case, samples with low counts can be removed using the *bbea.subset()* function, only keeping samples with average counts > 25.  "
   ]
  },
  {
   "cell_type": "code",
   "execution_count": null,
   "metadata": {
    "eval": false
   },
   "outputs": [],
   "source": [
    "bbea.sub <- bbea.subset(bbea, statement = (bbea$pData$CountMean > 25))"
   ]
  },
  {
   "cell_type": "markdown",
   "metadata": {},
   "source": [
    "# Data Normalization\n",
    "\n",
    "We convert the **Median** to normalized **nMFI** by taking the log~2~ of values and subtracting the average of the background wells. Note: the *Sample* column of the **pData** should include a *\"Buffer\"* string in the wells dedicated for the background.  "
   ]
  },
  {
   "cell_type": "code",
   "execution_count": null,
   "metadata": {
    "name": "MFI normalization and eset"
   },
   "outputs": [],
   "source": [
    "bbeaN <- MFI2nMFI(bbea, \n",
    "                  offset = 0.5, # a constant to add to avoid taking a log of 0\n",
    "                  rmNeg = TRUE) # if a value of a sample is below background, assign \"0\" \n",
    "names(bbeaN)\n",
    "bbeaN$nMFI[1:5, 1:2]"
   ]
  },
  {
   "cell_type": "markdown",
   "metadata": {},
   "source": [
    "R object of class ExpressionSet *eset* is convenient for a high-thoughtput data analysis.  \n",
    "*bbea* object can be converted to eset:  "
   ]
  },
  {
   "cell_type": "code",
   "execution_count": null,
   "metadata": {},
   "outputs": [],
   "source": [
    "eset <- nMFI2Eset(nMFI.object = bbeaN)\n",
    "eset"
   ]
  },
  {
   "cell_type": "markdown",
   "metadata": {
    "lines_to_next_cell": 0
   },
   "source": [
    "# QC of Normalized Data\n",
    "\n",
    "We can print the layouts of all experimental plates, to quicky do a visual inspection of the samples.  "
   ]
  },
  {
   "cell_type": "code",
   "execution_count": null,
   "metadata": {},
   "outputs": [],
   "source": [
    "Image.Plate(bbeaN)"
   ]
  },
  {
   "cell_type": "markdown",
   "metadata": {},
   "source": [
    "In this figure, we can clearly see triplicates and several wells (grey) that were used for the background calculaiton. We can also notice that laste plate (plate #4) had only two samples. \n",
    "\n",
    "## Batch Effect\n",
    "\n",
    "Batch effects are a well-known phenomenon in the high-throughput expreiments, i.e. Microarrays, RNAseq, Luminex. For the **BBEA**, batch effects are individual microplate runs. Those are the effects that capture experimental rather than biological variability. Batch effetcs are easy to detetc and eliminate, if experimental conditions are randomized across plate runs.  \n",
    "\n",
    "Principal Component Analysis (PCA) can be used to viually inspect the data."
   ]
  },
  {
   "cell_type": "code",
   "execution_count": null,
   "metadata": {
    "fig.height": 4,
    "fig.width": 5,
    "name": "PCA before pbatch"
   },
   "outputs": [],
   "source": [
    "pca.db<-getPCAs(eset)\n",
    "pca.db$varex[1:10]\n",
    "ggplot(pca.db$db,aes(x=PC.1,y=PC.2,color=Plate)) + geom_point() + theme_bw() +\n",
    "  labs(x=paste0(\"PC1 - \",pca.db$varex[1],\"%\"),\n",
    "       y=paste0(\"PC2 - \",pca.db$varex[2],\"%\"),\n",
    "       title='PCA, unadjusted data')"
   ]
  },
  {
   "cell_type": "markdown",
   "metadata": {},
   "source": [
    "Principal Variance Component Analysis <a href=\"https://onlinelibrary.wiley.com/doi/10.1002/9780470685983.ch12\" target=\"_blank\">(PVCA)</a> to quantify the amount of varibaility attributed to the plate. *pvcaBatchAssess.bbea()* function is based on the <a href=\"https://www.bioconductor.org/packages/release/bioc/html/pvca.html\" target=\"_blank\">pvca</a> R package available through Bioconductor."
   ]
  },
  {
   "cell_type": "code",
   "execution_count": null,
   "metadata": {
    "fig.height": 4,
    "fig.width": 5,
    "name": "PVCA before batch"
   },
   "outputs": [],
   "source": [
    "pvca.obj<-pvcaBatchAssess.bbea(eset,\n",
    "                               threshold=0.8,\n",
    "                               batch.factors=c('Plate','Treatment','Visit',\"SUBJECT.ID\"),  \n",
    "                               include.inter='Treatment:Visit') \n",
    "pvca.plot(pvca.obj, fname='PVCA.Plate.Covariates', ht=4, wd=5.5,\n",
    "          order=c('Plate','Treatment','Visit','Treatment x Visit',\"SUBJECT.ID\",'resid'))\n"
   ]
  },
  {
   "cell_type": "markdown",
   "metadata": {},
   "source": [
    "The PVCA analysis shows that 5% of the variability is attributed to the \"plate\" effect. \n",
    "There are many ways to remove this variability. We will show the exmaple of fitting a limma model for each epitope with Plate as a covariate and then subtracting the plate coeffcient. More detailed desciropn of this method is described in <a href=\"https://www.ncbi.nlm.nih.gov/pmc/articles/PMC6895130/\" target=\"_blank\">this publication</a>."
   ]
  },
  {
   "cell_type": "code",
   "execution_count": null,
   "metadata": {
    "name": "Batch adjustment"
   },
   "outputs": [],
   "source": [
    "design <- model.matrix(~ Plate + Visit*Treatment, data=pData(eset))\n",
    "cor <- duplicateCorrelation(eset, design, block=eset$SUBJECT.ID) # this estimates the correlation between dependent samples (i.e. same patients were evaluated before and after treatment)\n",
    "fit<-lmFit(exprs(eset), design, block=eset$SUBJECT.ID, correlation=cor$consensus)\n",
    "coefs2adjust <- colnames(fit$coefficients)[grep('Plate', colnames(fit$coefficients))]\n",
    "adj.exprs <- exprs(eset) - fit$coefficients[,coefs2adjust] %*% t(design[,coefs2adjust]) \n",
    "eset.lm <- eset\n",
    "exprs(eset.lm) <- adj.exprs\n"
   ]
  },
  {
   "cell_type": "markdown",
   "metadata": {},
   "source": [
    "PCA after the adjustment looks almost identical, as oftentimes the batch effect is not easily detectable \"by eye\". "
   ]
  },
  {
   "cell_type": "code",
   "execution_count": null,
   "metadata": {
    "fig.height": 4,
    "fig.width": 5,
    "name": "PCA after pbatch"
   },
   "outputs": [],
   "source": [
    "pca.db<-getPCAs(eset.lm)\n",
    "pca.db$varex[1:10]\n",
    "ggplot(pca.db$db,aes(x=PC.1,y=PC.2,color=Plate)) + geom_point() + theme_bw() +\n",
    "  labs(x=paste0(\"PC1 - \",pca.db$varex[1],\"%\"),\n",
    "       y=paste0(\"PC2 - \",pca.db$varex[2],\"%\"),\n",
    "       title='PCA, limma adjusted data')"
   ]
  },
  {
   "cell_type": "markdown",
   "metadata": {},
   "source": [
    "However, the PVCA analysis shows that after the adjustment, \"plate\" accounts for 0.3% of the overall variability.   "
   ]
  },
  {
   "cell_type": "code",
   "execution_count": null,
   "metadata": {
    "fig.height": 4,
    "fig.width": 5,
    "lines_to_next_cell": 2,
    "name": "PVCA after adjustment"
   },
   "outputs": [],
   "source": [
    "pvca.obj<-pvcaBatchAssess.bbea(eset.lm,\n",
    "                               threshold=0.8,\n",
    "                               batch.factors=c('Plate','Treatment','Visit',\"SUBJECT.ID\"),  \n",
    "                               include.inter='Treatment:Visit') \n",
    "pvca.plot(pvca.obj, fname='PVCA.Plate.Covariates.lm', ht=4, wd=5.5,\n",
    "          order=c('Plate','Treatment','Visit','Treatment x Visit',\"SUBJECT.ID\",'resid'))\n"
   ]
  },
  {
   "cell_type": "markdown",
   "metadata": {},
   "source": [
    "## Distributions\n",
    "\n",
    "Cullen-Frey plots can be used to evaluate the distribution of the data. It shows how the skewness and kurtosis of our data compare to the theoretical distributions.   \n",
    "*CullenFreyPlot()* function is a wrapper of the <a href=\"https://cran.r-project.org/web/packages/fitdistrplus/vignettes/paper2JSS.pdf\" target=\"_blank\">fitdistrplus::descdist()</a>.\n",
    "Since there are different levels of the antibody to each peptide, the data will be scaled before plotting. Y-axis of the boxplot represents a mean MFI or nMFI of 50 scaled peptides. "
   ]
  },
  {
   "cell_type": "code",
   "execution_count": null,
   "metadata": {
    "fig.height": 4.3,
    "fig.width": 4.5,
    "message": false,
    "name": "Cullnen-Frey",
    "tags": [
     "remove_output"
    ]
   },
   "outputs": [],
   "source": [
    "adjMFI <- t(apply(as.matrix(bbea$Median), 1, function(x){x - mean(x, na.rm=T)}))\n",
    "adjnMFI<-t(apply(as.matrix(exprs(eset)), 1, function(x){x - mean(x, na.rm=T)}))\n",
    "\n",
    "CullenFreyPlot(adjMFI, filename = \"QC.CullenFrey.MFI\")\n",
    "CullenFreyPlot(adjnMFI, filename = \"QC.CullenFrey.nMFI\")\n"
   ]
  },
  {
   "cell_type": "markdown",
   "metadata": {},
   "source": [
    "We can see that while both MFI and nMFI data are skewed, nMFI data is closer to log-normal rather than exponential distributions. "
   ]
  },
  {
   "cell_type": "markdown",
   "metadata": {},
   "source": [
    "## Technical Replicates\n",
    "\n",
    "Intraclass Correlation Coefficient <a href=\"https://en.wikipedia.org/wiki/Intraclass_correlation\" target=\"_blank\">(ICC)</a> is used to evaluate agreement among technical replicates for each peptide, where 0 means no agreement, and 1 is a perfect agreement.  \n",
    "The function returns the ICC and a 95% confidence interval.   "
   ]
  },
  {
   "cell_type": "code",
   "execution_count": null,
   "metadata": {
    "fig.height": 6.5,
    "fig.width": 4,
    "message": false,
    "name": "ICC"
   },
   "outputs": [],
   "source": [
    "icc.db <- getICCbyPeptide(eset, UR=c(\"SUBJECT.ID\",\"Visit\")) # what is the unit of replication? in this case, it is patient + visit\n",
    "head(icc.db)\n",
    "\n",
    "ggplot(icc.db, aes(x = Peptide, y = ICC)) +\n",
    "  geom_hline(yintercept = 0.7, color = \"grey50\", linetype = 2) +\n",
    "  geom_point() +\n",
    "  geom_errorbar(aes(ymax = UCI, ymin = LCI),width = 0.5) +\n",
    "  scale_y_continuous(limits = c(0, 1), breaks = seq(0, 1, 0.1)) +\n",
    "  labs(x = \"\", y = (\"ICC [95% CI]\"), title = \"ICC across replicates\") +\n",
    "  theme_bw() + coord_flip()"
   ]
  },
  {
   "cell_type": "markdown",
   "metadata": {},
   "source": [
    "Coefficient of Variation <a href=\"https://en.wikipedia.org/wiki/Coefficient_of_variation\" target=\"_blank\">(CV)</a> is used to estimate varibaility of the replicates. Generally, for biological assays the desired CV is below 20%. "
   ]
  },
  {
   "cell_type": "code",
   "execution_count": null,
   "metadata": {
    "name": "CV",
    "tags": [
     "remove_output"
    ]
   },
   "outputs": [],
   "source": [
    "cv.db <- getCVbyPeptide.MFI(bbea, UR = c(\"SUBJECT.ID\",\"Visit\")) # what is the unit of replication? in this case, it is patient + visit"
   ]
  },
  {
   "cell_type": "code",
   "execution_count": null,
   "metadata": {
    "fig.height": 6.5,
    "fig.width": 4,
    "lines_to_next_cell": 2,
    "message": false
   },
   "outputs": [],
   "source": [
    "head(cv.db)\n",
    "\n",
    "ggplot(cv.db, aes(x = Peptide,y = mean.cv)) +\n",
    "  geom_hline(yintercept = 20, color = \"grey50\", linetype = 2) +\n",
    "  geom_point() +\n",
    "  geom_errorbar(aes(ymax = mean.cv + sd.cv, ymin = mean.cv - sd.cv),width = 0.5) +\n",
    "  scale_y_continuous(limits = c(-10,100),breaks = seq(-10,100,10)) +\n",
    "  labs(x = \"\", y = expression(\"Average %CV \"%+-%\"SD\"), title = \"CV across replicates\") +\n",
    "  theme_bw() + coord_flip()"
   ]
  },
  {
   "cell_type": "markdown",
   "metadata": {},
   "source": [
    "# Averaging Technical Replicates\n",
    "\n",
    "If there are no samples to exclude based on ICC, CV and QC of counts, technical triplicates can be averaged for the downstream analyses. "
   ]
  },
  {
   "cell_type": "code",
   "execution_count": null,
   "metadata": {
    "fig.height": 5,
    "fig.width": 6.5,
    "name": "Average"
   },
   "outputs": [],
   "source": [
    "eset.avg <- getAveragesByReps(eset, UR = c('SUBJECT.ID','Visit'))\n",
    "eset.avg\n",
    "exprs(eset.avg)[1:5,1:3]\n",
    "# will calculate an average of 66 epitopes for each sample\n",
    "eset.avg$esIgE.avg <- colMeans(exprs(eset.avg))\n",
    "\n",
    "ord <- with(pData(eset.avg),order(Treatment, Visit,esIgE.avg))\n",
    "pheatmap(exprs(eset.avg)[,ord], scale = \"row\", fontsize = 6,\n",
    "         annotation_col = subset(pData(eset.avg)[ord,], select = c(Visit,Treatment)),\n",
    "         cluster_cols = FALSE, breaks = seq(-2,2,0.1),\n",
    "         color=rev(colorRampPalette(brewer.pal(7,\"RdBu\"))(length(seq(-2,2,0.1)))),\n",
    "         show_colnames = FALSE)\n"
   ]
  },
  {
   "cell_type": "markdown",
   "metadata": {},
   "source": [
    "The heatmap shows that maybe epitope-specific IgE levels somewhat decreased post treatment.\n",
    "To test this statistically, we will do some modelling.\n",
    "\n",
    "# Differential Analysis - Limma Modeling\n",
    "\n",
    "We are interested whether epitope-specific IgE antibodies decreased after patients were treated with an adjuvant Omalizumab or Placebo in addition to milk OIT. \n",
    "\n",
    "For this, we will use a <a href=\"https://www.ncbi.nlm.nih.gov/pubmed/25605792\" target=\"_blank\">limma framework</a> where a linear model is fit to every peptide. "
   ]
  },
  {
   "cell_type": "code",
   "execution_count": null,
   "metadata": {
    "fig.height": 6,
    "fig.width": 5,
    "name": "Limma Analysis"
   },
   "outputs": [],
   "source": [
    "design <- model.matrix(~ Visit*Treatment, data=pData(eset.avg)) \n",
    "colnames(design) <- make.names(colnames(design))\n",
    "cor <- duplicateCorrelation(exprs(eset.avg), design, block=eset.avg$SUBJECT.ID)\n",
    "fit <- lmFit(exprs(eset.avg), design, block=eset.avg$SUBJECT.ID, correlation=cor$consensus)\n",
    "contrm <- makeContrasts(Placebo.Baseline = X.Intercept. + TreatmentPlacebo, \n",
    "                        Placebo.Post = X.Intercept. + TreatmentPlacebo + VisitMonth32 + VisitMonth32.TreatmentPlacebo,\n",
    "                      Omalizumab.Baseline = X.Intercept., \n",
    "                      Omalizumab.Post = X.Intercept.+VisitMonth32,\n",
    "                      levels=design)\n",
    "contrd <- mutate(as.data.frame(contrm), \n",
    "               PostvsBaseline.Placebo = Placebo.Post - Placebo.Baseline,\n",
    "               PostvsBaseline.Omalizumab = Omalizumab.Post - Omalizumab.Baseline,\n",
    "               TreatmentEffect = PostvsBaseline.Omalizumab - PostvsBaseline.Placebo)\n",
    "contrd <- contrd[,!colnames(contrd)%in%colnames(contrm)]\n",
    "\n",
    "fitm <- eBayes(contrasts.fit(fit,contrm)) # marginal group means \n",
    "ebfit <- eBayes(contrasts.fit(fit,contrd),trend=T) # lgFCH of changes\n",
    "plotSA(ebfit)\n",
    "D <- decideTests(ebfit,method=\"separate\",adjust.method=\"BH\",p.value=0.05,lfc=log2(1))\n",
    "t(summary(D)) # number of significant epitopes\n",
    "\n",
    "# significant epitopes (FDR<0.05)\n",
    "sepits <- rownames(D)[which(D[,\"PostvsBaseline.Placebo\"]!=0)]\n",
    "pheatmap(fitm$coefficients[sepits,], cluster_cols = F, \n",
    "         main = \"Group means\", fontsize = 6)\n"
   ]
  },
  {
   "cell_type": "markdown",
   "metadata": {},
   "source": [
    "We can see that epitope-specific IgE decreased in both Omalizumab and Placebo groups, with more changes (in 63 epitope-specific IgE) in the Placebo group. User needs to make sure that the Annotation file has a column named \"lableName\", as it will be used to print names of the epitopes.  "
   ]
  },
  {
   "cell_type": "code",
   "execution_count": null,
   "metadata": {
    "lines_to_next_cell": 0,
    "name": "Limma Analysis Circle Plots"
   },
   "outputs": [],
   "source": [
    "Run_doNetCirclePlot(ebfit[,1], D[,1], Annot, fname = \"lmFit.Placebo.\")\n",
    "Run_doNetCirclePlot(ebfit[,2], D[,2], Annot, fname = \"lmFit.Omalizumab.\")"
   ]
  },
  {
   "cell_type": "markdown",
   "metadata": {},
   "source": [
    "  \n",
    "\n",
    "\n",
    "  \n",
    "\n"
   ]
  }
 ],
 "metadata": {
  "jupytext": {
   "cell_metadata_filter": "fig.height,fig.width,message,tags,name,eval,-all",
   "main_language": "R",
   "notebook_metadata_filter": "-all"
  }
 },
 "nbformat": 4,
 "nbformat_minor": 4
}
