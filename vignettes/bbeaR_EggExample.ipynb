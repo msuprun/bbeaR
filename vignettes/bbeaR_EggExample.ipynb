{
 "cells": [
  {
   "cell_type": "raw",
   "metadata": {},
   "source": [
    "---\n",
    "title: \"bbeaR - Egg Allergy Example\"\n",
    "author: \"Maria Suprun, Randall J. Ellis, Mayte Suárez-Fariñas\"\n",
    "date: \"05/23/2020\"\n",
    "output:\n",
    "  html_document:\n",
    "    highlight: pygments\n",
    "    number_sections: yes\n",
    "    theme: united\n",
    "    toc: yes\n",
    "  word_document:\n",
    "    toc: no\n",
    "  pdf_document:\n",
    "    toc: yes\n",
    "---"
   ]
  },
  {
   "cell_type": "markdown",
   "metadata": {},
   "source": [
    "<!--\n",
    "%\\VignetteEngine{knitr::rmarkdown}\n",
    "%\\VignetteIndexEntry{Using bbeaR}\n",
    "-->"
   ]
  },
  {
   "cell_type": "code",
   "execution_count": null,
   "metadata": {
    "name": "setup",
    "tags": [
     "remove_cell"
    ]
   },
   "outputs": [],
   "source": [
    "knitr::opts_chunk$set(echo = TRUE, message = FALSE)"
   ]
  },
  {
   "cell_type": "markdown",
   "metadata": {},
   "source": [
    "# About\n",
    "\n",
    "The **Bead-Based Epitope Assay** *(BBEA)* can be used to quantify the amount of epitope- or peptide-specific antibodies (e.g., IgE) in plasma or serum samples. A detailed assay description is outlined in \n",
    "<a href=\"https://www.nature.com/articles/s41598-019-54868-7\" target=\"_blank\">this publication</a>\n",
    "\n",
    "In this tutorial, we will analyze a dataset of the immuniglobulin (Ig)E profiles in egg allergic children. The levels of IgE to 58 peptides (15-mer, 12 amino acid overlap), covering the entire sequence of hen’s egg-white <a href=\"https://www.uniprot.org/uniprot/P01005\" target=\"_blank\">ovomucoid protein</a>, were measured using *BBEA* in 38 allergic children and 6 controls.    \n",
    "\n",
    "We will start by installing *bbeaR* and reading in the *BBEA's* raw data (alternatively, one can load an R dataset that comes with this package). We will look at several quality control (QC) measures and normalize the data. Then we will create a topology plot, to highlight immunodominant regions on the ovomucoid protein. At the end, we will demonstrate an approach to identify epitope-specific (es)IgE that are different between allergic children and controls, using <a href=\"https://bioconductor.org/packages/release/bioc/html/limma.html\" target=\"_blank\">limma</a> modeling framework.\n",
    "\n",
    "# Installation\n",
    "\n",
    "*bbeaR* is a Bioconductor package and is installed using a standard code:"
   ]
  },
  {
   "cell_type": "code",
   "execution_count": null,
   "metadata": {
    "eval": false
   },
   "outputs": [],
   "source": [
    "if (!requireNamespace(\"BiocManager\", quietly=TRUE))\n",
    "    install.packages(\"BiocManager\")\n",
    "BiocManager::install(\"bbeaR\")"
   ]
  },
  {
   "cell_type": "markdown",
   "metadata": {},
   "source": [
    "Loading additional packages that will be used in the analyses."
   ]
  },
  {
   "cell_type": "code",
   "execution_count": null,
   "metadata": {
    "name": "Packages"
   },
   "outputs": [],
   "source": [
    "library(bbeaR)\n",
    "library(plyr)\n",
    "library(stringr)\n",
    "library(ggplot2)\n",
    "library(gridExtra)\n",
    "library(pheatmap)\n",
    "library(RColorBrewer)\n",
    "library(limma)"
   ]
  },
  {
   "cell_type": "markdown",
   "metadata": {},
   "source": [
    "# Raw Data Import\n",
    "44 patient samples were assayed in duplicates, ran within the same batch on one 96-well plate. The run additionally inlcuded two positive control pools (aka \"PP\", a mix of plasma from several allergic patients), a negative pool (aka \"NP\", a mix of plasma from several healthy patients), and 2 wells without any sample (aka \"Buffer\", for a background quantification).    \n",
    "\n",
    "The original *.csv* files from the Luminex-200 assay, generated with the xPONENT® software, can be downloaded here [link].    \n",
    "\n",
    "We need to create a plate layout using the *create.plate.db()* function. This layout will be used in the import and some of the plotting functions. The only input to this function is the direction of the plate read (horizorntal or vertical). "
   ]
  },
  {
   "cell_type": "code",
   "execution_count": null,
   "metadata": {
    "name": "Plate layout"
   },
   "outputs": [],
   "source": [
    "l <- create.plate.db(direction = \"horizontal\")\n",
    "plate.design.db <- l$plate.design.db\n",
    "plate.design <- l$plate.design\n",
    "plate.design"
   ]
  },
  {
   "cell_type": "markdown",
   "metadata": {},
   "source": [
    "Then read a *.csv* file of the one plate.    \n",
    "Note: a separate tutorial (Milk Allergy Example) has an example of importing and processing multiple plates.  "
   ]
  },
  {
   "cell_type": "code",
   "execution_count": null,
   "metadata": {
    "name": "Raw files"
   },
   "outputs": [],
   "source": [
    "bbea <- bbea.read.csv(fname = \"../inst/extdata/BBEA_OVM_58p_IgE_patients.csv\") \n",
    "#bbeaEgg <- bbea.read.csv(fname = \"BBEA_OVM_58p_IgE_patients.csv\")"
   ]
  },
  {
   "cell_type": "markdown",
   "metadata": {},
   "source": [
    "The *bbea* list object contains several elements, extracted from the assay's output."
   ]
  },
  {
   "cell_type": "code",
   "execution_count": null,
   "metadata": {},
   "outputs": [],
   "source": [
    "names(bbeaEgg)"
   ]
  },
  {
   "cell_type": "markdown",
   "metadata": {},
   "source": [
    "The **Median**, **NetMFI**, and **Count** are matrices with rows as Analytes (epitopes) and columns as Samples.    \n",
    "   \n",
    "The **Median** are the Median Flourescence Intensities (MFIs) and the **NetMFI** are the Medians normalized to background. In our example, **Median** and **NetMFI** have exactly same values, since normalization was not selected during the assay run. <a href=\"https://www.luminexcorp.com/blog/its-all-about-the-stats/\" target=\"_blank\">This post</a> has more details about the Luminex outputs."
   ]
  },
  {
   "cell_type": "code",
   "execution_count": null,
   "metadata": {},
   "outputs": [],
   "source": [
    "bbeaEgg$Median[1:5, 1:2]"
   ]
  },
  {
   "cell_type": "markdown",
   "metadata": {},
   "source": [
    "The **Count** are the numbers of beads counted per analyte, and is important quality control measure. "
   ]
  },
  {
   "cell_type": "code",
   "execution_count": null,
   "metadata": {},
   "outputs": [],
   "source": [
    "bbeaEgg$Count[1:5, 1:2]"
   ]
  },
  {
   "cell_type": "markdown",
   "metadata": {
    "lines_to_next_cell": 0
   },
   "source": [
    "The **AssayInfo** saves parameters of the assay."
   ]
  },
  {
   "cell_type": "code",
   "execution_count": null,
   "metadata": {},
   "outputs": [],
   "source": [
    "bbeaEgg$AssayInfo[1:15, 1:2]"
   ]
  },
  {
   "cell_type": "markdown",
   "metadata": {},
   "source": [
    "Finally, *bbea.read.csv()* creates a **phenotype (p)Data** that has some basic information about the samples and the assay run."
   ]
  },
  {
   "cell_type": "code",
   "execution_count": null,
   "metadata": {},
   "outputs": [],
   "source": [
    "colnames(bbeaEgg$pData)\n",
    "bbeaEgg$pData[1:2, 1:2]"
   ]
  },
  {
   "cell_type": "markdown",
   "metadata": {},
   "source": [
    "We can now add extrenal information about the samples and analytes.   \n",
    "Load already imported data that inlcudes **p**henotype (clinical) **d**ata *PDegg* and an annotation file *AnnotEgg*. Note: this will also load a *bbea* list object (generated in the previous steps).  "
   ]
  },
  {
   "cell_type": "code",
   "execution_count": null,
   "metadata": {
    "name": "Load pheno data"
   },
   "outputs": [],
   "source": [
    "data(Egg)"
   ]
  },
  {
   "cell_type": "markdown",
   "metadata": {},
   "source": [
    "The annotation **AnnotEgg** dataset contains the mapping of Luminex beads (Analytes) to the peptides/epitopes."
   ]
  },
  {
   "cell_type": "code",
   "execution_count": null,
   "metadata": {},
   "outputs": [],
   "source": [
    "dim(AnnotEgg)\n",
    "head(AnnotEgg)"
   ]
  },
  {
   "cell_type": "markdown",
   "metadata": {},
   "source": [
    "Changing the *bbeaEgg* object to have peptide names instead of analyte numbers."
   ]
  },
  {
   "cell_type": "code",
   "execution_count": null,
   "metadata": {
    "lines_to_next_cell": 2,
    "name": "Adding Annotation"
   },
   "outputs": [],
   "source": [
    "bbeaEgg <- bbea.changeAnnotation(bbea.obj = bbeaEgg, \n",
    "                              annotation = AnnotEgg,\n",
    "                              newNameCol = \"Peptide\", \n",
    "                              AnalyteCol = \"Analyte\")\n",
    "bbeaEgg$Median[1:5, 1:2]"
   ]
  },
  {
   "cell_type": "markdown",
   "metadata": {},
   "source": [
    "The **PDegg** dataset has clinical information about our samples."
   ]
  },
  {
   "cell_type": "code",
   "execution_count": null,
   "metadata": {},
   "outputs": [],
   "source": [
    "dim(PDegg)\n",
    "head(PDegg)"
   ]
  },
  {
   "cell_type": "markdown",
   "metadata": {},
   "source": [
    "We will clean up the pData and then merge it with PDegg. This step is not necessary, but will be useful when we do statistical modelling.   "
   ]
  },
  {
   "cell_type": "code",
   "execution_count": null,
   "metadata": {
    "name": "Adding information about samples"
   },
   "outputs": [],
   "source": [
    "bbeaEgg$pData <- mutate(bbeaEgg$pData, \n",
    "                     PTID = sapply(strsplit(Sample, \"\\\\-\"), head, 1),\n",
    "                     SampleType = ifelse(grepl(\"Buff\", Sample),\"Buffer\",\n",
    "                                         ifelse(grepl(\"PP|NP\", Sample),\n",
    "                                                sapply(strsplit(Sample, \"\\\\-\"),head, 1), \"Patient\")))\n",
    "PDm <- merge(bbeaEgg$pData, PDegg, by = \"PTID\", all.x = T)\n",
    "rownames(PDm) <- PDm$File\n",
    "bbeaEgg$pData <- PDm[colnames(bbeaEgg$Median),] # making sure samples are arranged correctly"
   ]
  },
  {
   "cell_type": "markdown",
   "metadata": {},
   "source": [
    "# Quality Control of the Raw Data\n",
    "\n",
    "Layout of the experimental plate.     \n",
    "Tip: to make sure no position bias is present in the data, samples have to be randomzied among wells and plates, as outlined in <a href=\"https://academic.oup.com/bioinformatics/article/35/9/1605/5124272\" target=\"_blank\">this publication</a>."
   ]
  },
  {
   "cell_type": "code",
   "execution_count": null,
   "metadata": {
    "name": "QC MFI"
   },
   "outputs": [],
   "source": [
    "bbea.QC.Image(bbeaEgg$pData,\n",
    "              filename = \"QC.Image.\",\n",
    "              plate.layout = plate.design.db)"
   ]
  },
  {
   "cell_type": "markdown",
   "metadata": {},
   "source": [
    "We want to make sure that there are no missing samples or analytes. This would be reflcected by the very low counts (<25).   \n",
    "The heatmap shows that all samples and analytes are were included."
   ]
  },
  {
   "cell_type": "code",
   "execution_count": null,
   "metadata": {
    "fig.height": 6
   },
   "outputs": [],
   "source": [
    "bbea.QC.heatmap.counts(bbeaEgg,\n",
    "                       getlog2 = FALSE,\n",
    "                       filename = \"QC.CountsHeatmap.pdf\",\n",
    "                       plateVar = \"Plate\", ann = NULL)"
   ]
  },
  {
   "cell_type": "markdown",
   "metadata": {},
   "source": [
    "Now we look at the overall distribution of counts: the minimum count is ~69, which is pretty good."
   ]
  },
  {
   "cell_type": "code",
   "execution_count": null,
   "metadata": {
    "fig.height": 4
   },
   "outputs": [],
   "source": [
    "p<-bbea.QC.Samples(bbeaEgg,\n",
    "               filename = \"QC.\",\n",
    "               plateVar = 'Plate',\n",
    "               gt = 25)\n",
    "grid.arrange(p$pmin, p$pavg, nrow=1)"
   ]
  },
  {
   "cell_type": "markdown",
   "metadata": {},
   "source": [
    "Our counts looks good, so we don't need to exclude any samples. However, if this were not the case, samples with low counts can be removed using the *bbea.subset()* function, only keeping samples with average counts > 25.  "
   ]
  },
  {
   "cell_type": "code",
   "execution_count": null,
   "metadata": {
    "eval": false
   },
   "outputs": [],
   "source": [
    "bbea.sub <- bbea.subset(bbeaEgg, statement = (bbeaEgg$pData$CountMean > 25))"
   ]
  },
  {
   "cell_type": "markdown",
   "metadata": {},
   "source": [
    "# Data Normalization\n",
    "\n",
    "We convert the **Median** to normalized **nMFI** by taking the log~2~ of values and subtracting the average of the background wells. Note: the *Sample* column of the **pData** should include a *\"Buffer\"* string in the wells dedicated for the background.  "
   ]
  },
  {
   "cell_type": "code",
   "execution_count": null,
   "metadata": {
    "name": "MFI normalization and eset"
   },
   "outputs": [],
   "source": [
    "bbeaEgg$pData$Sample # samples 71 & 72 are the background wells\n",
    "\n",
    "bbeaN <- MFI2nMFI(bbeaEgg, \n",
    "                  offset = 0.5, # a constant to add to avoid taking a log of 0\n",
    "                  rmNeg = TRUE) # if a value of a sample is below background, assign \"0\" \n",
    "names(bbeaN)\n",
    "bbeaN$nMFI[1:5, 1:2]"
   ]
  },
  {
   "cell_type": "markdown",
   "metadata": {},
   "source": [
    "R object of class ExpressionSet *eset* is convenient for a high-thoughtput data analysis.  \n",
    "*bbea* object can be converted to eset:  "
   ]
  },
  {
   "cell_type": "code",
   "execution_count": null,
   "metadata": {},
   "outputs": [],
   "source": [
    "eset <- nMFI2Eset(nMFI.object = bbeaN)\n",
    "eset"
   ]
  },
  {
   "cell_type": "markdown",
   "metadata": {},
   "source": [
    "# QC of Normalized Data \n",
    "## Distributions\n",
    "\n",
    "Overall distribution:   \n",
    "Since there are different levels of the antibody to each peptide, the data will be scaled before plotting. Y-axis of the boxplot represents a mean MFI or nMFI of 50 scaled peptides. "
   ]
  },
  {
   "cell_type": "code",
   "execution_count": null,
   "metadata": {
    "fig.height": 4,
    "fig.width": 8.5,
    "message": false,
    "name": "QC Boxplot"
   },
   "outputs": [],
   "source": [
    "adjMFI <- t(apply(as.matrix(bbeaEgg$Median), 1, function(x){x - mean(x, na.rm=T)}))\n",
    "adjnMFI<-t(apply(as.matrix(exprs(eset)), 1, function(x){x - mean(x, na.rm=T)}))\n",
    "\n",
    "par(mfrow = c(1, 2)) \n",
    "boxplot(colMeans(adjMFI) ~ bbeaEgg$pData$SampleType,\n",
    "        xlab = \" \", ylab = \"MFI\")\n",
    "boxplot(colMeans(adjnMFI) ~ eset$SampleType,\n",
    "        xlab = \" \", ylab = \"normalized MFI\")"
   ]
  },
  {
   "cell_type": "markdown",
   "metadata": {},
   "source": [
    "Cullen-Frey plots can be used to evaluate the distribution of the data. It shows how the skewness and kurtosis of our data compare to the theoretical distributions.   \n",
    "*CullenFreyPlot()* function is a wrapper of the \n",
    "<a href=\"https://cran.r-project.org/web/packages/fitdistrplus/vignettes/paper2JSS.pdf\" target=\"_blank\">fitdistrplus::descdist()</a>."
   ]
  },
  {
   "cell_type": "code",
   "execution_count": null,
   "metadata": {
    "fig.height": 4.3,
    "fig.width": 4.5,
    "message": false,
    "name": "Cullnen-Frey",
    "tags": [
     "remove_output"
    ]
   },
   "outputs": [],
   "source": [
    "CullenFreyPlot(adjMFI, filename = \"QC.CullenFrey.MFI\")\n",
    "CullenFreyPlot(adjnMFI, filename = \"QC.CullenFrey.nMFI\")"
   ]
  },
  {
   "cell_type": "markdown",
   "metadata": {},
   "source": [
    "We can see that while both MFI and nMFI data are skewed, nMFI data is closer to log-normal rather than exponential distributions. \n",
    "\n",
    "## Technical Replicates\n",
    "\n",
    "Intraclass Correlation Coefficient <a href=\"https://en.wikipedia.org/wiki/Intraclass_correlation\" target=\"_blank\">(ICC)</a> is used to evaluate agreement among technical replicates for each peptide, where 0 means no agreement, and 1 is a perfect agreement.   \n",
    "The function returns the ICC and a 95% confidence interval.   "
   ]
  },
  {
   "cell_type": "code",
   "execution_count": null,
   "metadata": {
    "fig.height": 6.5,
    "fig.width": 4,
    "message": false,
    "name": "ICC"
   },
   "outputs": [],
   "source": [
    "icc.db <- getICCbyPeptide(eset, \n",
    "                          UR=c(\"PTID\",\"Plate\")) # what is the unit of replication? in this case, it is patient + plate\n",
    "head(icc.db)\n",
    "\n",
    "ggplot(icc.db, aes(x = Peptide, y = ICC)) +\n",
    "  geom_hline(yintercept = 0.7, color = \"grey50\", linetype = 2) +\n",
    "  geom_point() +\n",
    "  geom_errorbar(aes(ymax = UCI, ymin = LCI),width = 0.5) +\n",
    "  scale_y_continuous(limits = c(0, 1), breaks = seq(0, 1, 0.1)) +\n",
    "  labs(x = \"\", y = (\"ICC [95% CI]\"), title = \"ICC across replicates\") +\n",
    "  theme_bw() + coord_flip()"
   ]
  },
  {
   "cell_type": "markdown",
   "metadata": {},
   "source": [
    "Coefficient of Variation <a href=\"https://en.wikipedia.org/wiki/Coefficient_of_variation\" target=\"_blank\">(CV)</a> is used to estimate varibaility of the replicates. Generally, for biological assays the desired CV is below 20%.    "
   ]
  },
  {
   "cell_type": "code",
   "execution_count": null,
   "metadata": {
    "name": "CV",
    "tags": [
     "remove_output"
    ]
   },
   "outputs": [],
   "source": [
    "cv.db <- getCVbyPeptide.MFI(bbeaEgg, \n",
    "                            UR = c(\"PTID\",\"Plate\")) # what is the unit of replication? in this case, it is patient + plate"
   ]
  },
  {
   "cell_type": "code",
   "execution_count": null,
   "metadata": {
    "fig.height": 6.5,
    "fig.width": 4,
    "message": false
   },
   "outputs": [],
   "source": [
    "head(cv.db)\n",
    "\n",
    "ggplot(cv.db, aes(x = Peptide,y = mean.cv)) +\n",
    "  geom_hline(yintercept = 20, color = \"grey50\", linetype = 2) +\n",
    "  geom_point() +\n",
    "  geom_errorbar(aes(ymax = mean.cv + sd.cv, ymin = mean.cv - sd.cv),width = 0.5) +\n",
    "  scale_y_continuous(limits = c(-10,100),breaks = seq(-10,100,10)) +\n",
    "  labs(x = \"\", y = expression(\"Average %CV \"%+-%\"SD\"), title = \"CV across replicates\") +\n",
    "  theme_bw() + coord_flip()"
   ]
  },
  {
   "cell_type": "markdown",
   "metadata": {},
   "source": [
    "# Averaging Technical Replicates\n",
    "\n",
    "If there are no samples to exclude based on ICC, CV and QC of counts, technical replicates can be averaged for the downstream analyses. "
   ]
  },
  {
   "cell_type": "code",
   "execution_count": null,
   "metadata": {
    "fig.height": 5.5,
    "fig.width": 6,
    "name": "Average"
   },
   "outputs": [],
   "source": [
    "eset.avg <- getAveragesByReps(eset, UR = 'PTID')\n",
    "eset.avg\n",
    "exprs(eset.avg)[1:5,1:3]\n",
    "\n",
    "pheatmap(exprs(eset.avg), scale = \"row\", fontsize = 6,\n",
    "         annotation_col = subset(pData(eset.avg), select = Group))"
   ]
  },
  {
   "cell_type": "markdown",
   "metadata": {},
   "source": [
    "The heatmap shows that few of the patients have higher IgE levels to several ovomucoid peptides.\n",
    "  \n",
    "Another useful statistic of IgE levels is a binary value of whether the IgE an epitope is \"present\". It can be defined as \"present\" if the MFI 2-3 standard deviations above the background (aka \"Buffer\" wells). Sometimes it might be more important to compare the MFI to negative control samples rather than the buffer. This can be easily achieved by specifying a desired string (e.g., \"NegativeControl\" or \"NP\") in the *buffer.name* argument of *binarizeMFIbySD()*."
   ]
  },
  {
   "cell_type": "code",
   "execution_count": null,
   "metadata": {
    "fig.height": 5.5,
    "fig.width": 6,
    "name": "Binary peptides"
   },
   "outputs": [],
   "source": [
    "binary.db <- binarizeMFIbySD(bbea.object = bbeaEgg,\n",
    "                             buffer.name = \"NP\", # a string in the \"Sample\" column identifying reference sample or background\n",
    "                             plateVar = \"Plate\", # column indicating batch/plate\n",
    "                             UR = 'PTID', # unique sample ID\n",
    "                             nSD = 3) # numner of standard deviaitons above the buffer\n",
    "sampleNames(binary.db) <- sapply(strsplit(sampleNames(binary.db), \"_\"),tail, 1)\n",
    "# can remove background (Buffer) wells\n",
    "binary.db <- binary.db[, !grepl(\"Buffer\", sampleNames(binary.db))]\n",
    "\n",
    "pheatmap(exprs(binary.db), fontsize = 6, \n",
    "         annotation_col = subset(pData(eset.avg)[sampleNames(binary.db),], select = Group),\n",
    "         color = c(\"azure2\", \"darkslateblue\")) \n"
   ]
  },
  {
   "cell_type": "markdown",
   "metadata": {},
   "source": [
    "The blue color reprsents peptide-specific IgE antibodies detected in our samples. \n",
    "\n",
    "# Differential Analysis - Limma Modeling\n",
    "\n",
    "We are interested in identifying peptide-specific IgE antibodies that are different between egg allergic patients and atopic controls. Atopic controls are patients that are not allergic to egg but have other types of allergies.  \n",
    "\n",
    "For this, we will use a <a href=\"https://www.ncbi.nlm.nih.gov/pubmed/25605792\" target=\"_blank\">limma framework</a> where a linear model is fit to every peptide. "
   ]
  },
  {
   "cell_type": "code",
   "execution_count": null,
   "metadata": {
    "name": "Limma Analysis"
   },
   "outputs": [],
   "source": [
    "# removing control samples\n",
    "eseti <- eset.avg[, which(!grepl(\"NP|PP\", eset.avg$PTID))]\n",
    "\n",
    "design <- model.matrix(~ Group, data = pData(eseti))\n",
    "colnames(design) <- make.names(colnames(design))\n",
    "fit <- lmFit(eseti, design)\n",
    "# means \n",
    "contr_m <- makeContrasts(Controls    = X.Intercept.,\n",
    "                         EggAllergic = X.Intercept.  + GroupEgg.Allergy, levels = design)\n",
    "# differences \n",
    "contr_d <- mutate(as.data.frame(contr_m), Allergic_vs_Controls = EggAllergic - Controls)\n",
    "contr_d <- subset(contr_d, select=Allergic_vs_Controls)\n",
    "fitm <- eBayes(contrasts.fit(fit,contr_m)) # marginal group means\n",
    "ebfit <- eBayes(contrasts.fit(fit,contr_d), trend=TRUE) # lgFCH allergic vs controls\n",
    "par(mfrow = c(1, 1)) \n",
    "plotSA(ebfit) # this plot shows that we have a variance trend, so we should keep trend=TRUE in the eBayes function\n",
    "D <- decideTests(ebfit, method = \"separate\", adjust.method = \"none\", \n",
    "                 p.value = 0.05, lfc = log2(1))\n",
    "t(summary(D)) # number of significant peptides\n",
    "\n",
    "# Table of top peptide-specific IgE antibodies\n",
    "topTable(ebfit, number=10)\n"
   ]
  },
  {
   "cell_type": "markdown",
   "metadata": {},
   "source": [
    "We have identified 7 peptide-specific IgE antibodies that are higher in the allergic group. In this exmaple, we have a small control group (n=6), so the p-values were not corrected for multiple comparison.  \n",
    "\n",
    "Significant peptide-specific IgE can be visualized using the \"area circle\" plot.  \n",
    "Area of the circle is proportional to the absolute value of the difference (Allergic vs Controls).  Color of the circle indicates the direction (Higher/Up=red, Lower/Down=blue, Non-Significant (NS)=grey) and significance. User needs to make sure that the Annotation file has a column named \"lableName\", as it will be used to print names of the epitopes.  "
   ]
  },
  {
   "cell_type": "code",
   "execution_count": null,
   "metadata": {
    "lines_to_next_cell": 2,
    "name": "Limma Analysis Circle Plots"
   },
   "outputs": [],
   "source": [
    "Run_doNetCirclePlot(ebfit, D, AnnotEgg, fname = \"lmFit.EAvsAC.\")"
   ]
  },
  {
   "cell_type": "markdown",
   "metadata": {},
   "source": [
    "# Protein Topology Plot\n",
    "\n",
    "We can now use our experimental data to overlay it on the amino acid sequence of the protein. Ovomucoid doesn't have a complete 3D crystal structure, so a \"topology\" plot can be helpful in identifying specific areas on a protein that are recognized by patients' IgE. \n",
    "\n",
    "First, we need to create a protein layout. We will use *drawProteins* package to download information about the protein sequence from the UniProt database. The meta data inludes amino acid (aa) positions of SIGNAL and CHAIN sequences, as well as information about reactive sites, glycosylation, disulfate bridges.   "
   ]
  },
  {
   "cell_type": "code",
   "execution_count": null,
   "metadata": {
    "name": "Protein",
    "warning": false
   },
   "outputs": [],
   "source": [
    "json <- drawProteins::get_features(\"P01005\")\n",
    "ovm_p01005_meta <- drawProteins::feature_to_dataframe(json)\n",
    "# Ovomucoid has a signal peptide sequence, that was not part of the peptides used in the assay.\n",
    "ovm_signalEnd <- ovm_p01005_meta$end[which(ovm_p01005_meta$type == \"SIGNAL\")]\n",
    "ovm_p01005_meta <- mutate(ovm_p01005_meta,\n",
    "                          beginMinusSignal = begin - ovm_signalEnd,\n",
    "                          endMinusSignal = end - ovm_signalEnd)\n",
    "# complete aa sequence\n",
    "ovm_p01005_aaseq <- json[[1]]$sequence\n",
    "# removing signal peptide\n",
    "ovm_p01005_aaseqCHAIN <- substr(ovm_p01005_aaseq, ovm_signalEnd + 1, (nchar(ovm_p01005_aaseq)))"
   ]
  },
  {
   "cell_type": "markdown",
   "metadata": {},
   "source": [
    "*getTopologyPlotDB()* function will construct a dataframe that can be used for plotting. The *getEnzymeCuts()* function is based on the R package <a href=\"https://github.com/sgibb/cleaver/\" target=\"_blank\">cleaver</a> and can add sites of enzymatic cuts (by trypsin, pepsin, and chymotrypsin).  "
   ]
  },
  {
   "cell_type": "code",
   "execution_count": null,
   "metadata": {
    "fig.height": 4.5,
    "fig.width": 6,
    "name": "Plot base",
    "warning": false
   },
   "outputs": [],
   "source": [
    "ovm_plotDB <- getTopologyPlotDB(ovm_p01005_aaseq, # a character string with amino acid sequence\n",
    "                                ymax = 20, # number of amino acids in one column \n",
    "                                offset = 3, # the first few amino acids to be below the rest of the plot\n",
    "                                meta = TRUE, # do we have the metadata\n",
    "                                metadb = ovm_p01005_meta) # metadata dataframe\n",
    "\n",
    "ovm_plotDB <- getEnzymeCuts(ovm_p01005_aaseq, # a character string with amino acid sequence\n",
    "                            topo = TRUE, # do we have a dataframe generated with getTopologyPlotDB()\n",
    "                            topodb = ovm_plotDB, # name of the getTopologyPlotDB() dataframe\n",
    "                            rmsignal = TRUE, # remove the signal peptide chain?\n",
    "                            signalend = 24) # at what residue does the signal chain end\n",
    "\n",
    "ovm_plotDB<-mutate(ovm_plotDB, \n",
    "                   EnzymeRmSignal = ifelse(is.na(EnzymeRmSignal), \"\", EnzymeRmSignal))\n",
    "\n",
    "makeTopologyPlotBase(subset(ovm_plotDB, type != \"Signal\")) +\n",
    "  geom_point(size = 5.5, color='black', aes(shape = glycosylation)) +\n",
    "  geom_point(size = 5, aes(color = disulf, shape = glycosylation)) +\n",
    "  scale_shape_manual(values = c(19, 0, 11), labels = c(\"No\", \"Yes\")) +\n",
    "  scale_color_manual(\"bridge\", values = c(\"grey61\", \"coral\"), labels = c(\"None\",\"SS\")) +\n",
    "  geom_text(aes(label = AA), size = 3) +\n",
    "  labs(title = paste(\"Ovomucoid (P01005)\")) +\n",
    "  geom_text(data = subset(ovm_plotDB, EnzymeRmSignal != \"\"), aes(label = EnzymeRmSignal),\n",
    "            size = 2, vjust = -1.7, angle = 90)"
   ]
  },
  {
   "cell_type": "markdown",
   "metadata": {},
   "source": [
    "The plot shows that several Asparagine (N) residues are glycosilated; the Cysteine residues colored in orange form disulfade bridges; and there are many potential enzymatic cleavage sites (P=Pepsin; T=Trypsin, Ch=Chymotrypsin).\n",
    "\n",
    "Now we will overlay this topology plot with our experimental data to see if any residues stand out."
   ]
  },
  {
   "cell_type": "code",
   "execution_count": null,
   "metadata": {
    "fig.height": 4.5,
    "fig.width": 7,
    "name": "Topo pts",
    "warning": false
   },
   "outputs": [],
   "source": [
    "# Getting sequences of the overlapping peptides (overlap by 12 aa, offset 3)\n",
    "peptDB_OVM <- do.call(\"rbind\",sapply(seq(1, nchar(ovm_p01005_aaseqCHAIN), 3), \n",
    "                                     function(i){\n",
    "                                       substr(ovm_p01005_aaseqCHAIN, i, 14 + i)\n",
    "                                       }, simplify = FALSE))\n",
    "peptDB_OVM <- subset(mutate(as.data.frame(peptDB_OVM),\n",
    "                            Peptide = paste0(\"OVM-\", str_pad(1:nrow(peptDB_OVM), 3, pad = \"0\")),\n",
    "                            Peptide.Number = 1 : nrow(peptDB_OVM)),\n",
    "                     nchar(as.character(V1)) == 15)\n",
    "colnames(peptDB_OVM)[1] <- \"Sequence\"\n",
    "\n",
    "# generate topology dataframe by using the means of the egg allergic patients\n",
    "dbt <- getTopologynMFI(eset = eset.avg[,which(eset.avg$Group == \"Egg Allergy\")],\n",
    "                       peptideDB = peptDB_OVM,\n",
    "                       topoDB = ovm_plotDB,\n",
    "                       endSignal = ovm_signalEnd)\n",
    "# assigning percentiles to the average level for each peptide\n",
    "dbt$avgp <- cut(dbt$avg, \n",
    "                breaks = quantile(dbt$avg, probs=seq(0, 1, by = 0.25), na.rm = TRUE),\n",
    "                include.lowest = TRUE, labels = c(\"<25%\", \"25-50%\", \"50-75%\", \">75%\"))\n",
    "\n",
    "makeTopologyPlotBase(subset(dbt, type != \"Signal\")) +\n",
    "  geom_point(size = 5.5, color = 'black',aes(shape = glycosylation)) +\n",
    "  geom_point(size = 5, aes(color = avgp, shape = glycosylation)) +\n",
    "  scale_color_brewer(\"Percentile of the mean level\", palette = \"OrRd\") +\n",
    "  scale_shape_manual(values = c(19, 15), labels = c(\"No\", \"Yes\")) +\n",
    "  geom_text(aes(label = AA), size = 2) +\n",
    "  geom_text(data = subset(dbt,EnzymeRmSignal != \"\"), aes(label = EnzymeRmSignal),\n",
    "            size = 2, vjust = -1.7, angle = 90) +\n",
    "  labs(title = \"Mean nMFI's percentile for each amino acid\")\n"
   ]
  },
  {
   "cell_type": "markdown",
   "metadata": {},
   "source": [
    "The topology plot shows that most IgE antibodies of our egg allergic patients were directed to the several groups of amino acids in the N-terminal of the ovomucoid protein. \n",
    "  \n"
   ]
  }
 ],
 "metadata": {
  "jupytext": {
   "cell_metadata_filter": "fig.width,message,tags,name,warning,eval,fig.height,-all",
   "main_language": "R",
   "notebook_metadata_filter": "-all"
  }
 },
 "nbformat": 4,
 "nbformat_minor": 4
}
